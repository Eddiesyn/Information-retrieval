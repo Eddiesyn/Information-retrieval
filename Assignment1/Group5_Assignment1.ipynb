{
 "cells": [
  {
   "cell_type": "code",
   "execution_count": 33,
   "metadata": {
    "collapsed": true
   },
   "outputs": [],
   "source": [
    "import numpy as np\n",
    "from math import acos,sqrt\n",
    "from matplotlib import pyplot as plt\n",
    "from matplotlib import patches"
   ]
  },
  {
   "cell_type": "code",
   "execution_count": 34,
   "metadata": {
    "collapsed": true
   },
   "outputs": [],
   "source": [
    "%matplotlib inline"
   ]
  },
  {
   "cell_type": "markdown",
   "metadata": {},
   "source": [
    "### Group 5 \n",
    "\n",
    "* Zhong Chen\n",
    "\n",
    "* Yeting Dong\n",
    "\n",
    "* Yunis Fanger\n",
    "\n",
    "* Alexander Jesipow\n",
    "\n",
    "* Yinan Shi"
   ]
  },
  {
   "cell_type": "markdown",
   "metadata": {},
   "source": [
    "# Assignment 1:\n",
    "## Task1:"
   ]
  },
  {
   "cell_type": "code",
   "execution_count": 35,
   "metadata": {},
   "outputs": [
    {
     "name": "stdout",
     "output_type": "stream",
     "text": [
      "0.5\n[0.01990000000000003, 0.029700999999999977, 0.9934295169575854]\n"
     ]
    }
   ],
   "source": [
    "p = 2\n",
    "q = 0.25\n",
    "d = determine_hypercube_length_from_prob(p, q)\n",
    "print(d)\n",
    "\n",
    "p_list = [2, 3, 500]\n",
    "evaluated_probs = [determine_prob_of_gaussian_distributed_rv(p) for p in p_list]\n",
    "print(evaluated_probs)"
   ]
  },
  {
   "cell_type": "code",
   "execution_count": 36,
   "metadata": {
    "collapsed": true
   },
   "outputs": [],
   "source": [
    "def determine_hypercube_length_from_prob(p, q):\n",
    "    \"\"\"Calculate the length (d) of hypercube in dependence on\n",
    "    its dimensionality (p) and the probability of the event of\n",
    "    being within it, assuming a uniform distribution over a\n",
    "    hypercube of lenth one\"\"\"\n",
    "    #Volume of C_1=1 and equates to P(X el C_1) = 1\n",
    "    #With uniform distribution -> P(X el C_d) = volume of C_d\n",
    "    #Volume of C_d = d**p = P(X el C_d)=q\n",
    "    d = q ** (1 / p)\n",
    "    return d\n",
    "\n",
    "\n",
    "def determine_prob_of_gaussian_distributed_rv(p):\n",
    "    \"\"\"Calculate the probability of a p dimensional gaussian distributed\n",
    "    random variable not lying within a hypercube of length 5.152 of the\n",
    "    same dimensionality\"\"\"\n",
    "    #Given: P(X^1 el C_5.152)=0.99 -> since the RV is iid in all dimensions:\n",
    "    #P(X^p el C_5152)= 0.99**p\n",
    "    q = 1 - 0.99 ** p\n",
    "    return q"
   ]
  },
  {
   "cell_type": "markdown",
   "metadata": {},
   "source": [
    "* The length $d$ of a $p$ dimensional hypercube corresponding to the probability $q$ is $d = q^{\\frac{1}{p}}$ \n",
    "\n",
    "* Our results for $p = [2, 3, 500]$ are $[0.0199, 0.0297, 0.9934]$ respectively"
   ]
  },
  {
   "cell_type": "markdown",
   "metadata": {
    "collapsed": true
   },
   "source": [
    "## Task2:"
   ]
  },
  {
   "cell_type": "code",
   "execution_count": 37,
   "metadata": {
    "collapsed": true
   },
   "outputs": [],
   "source": [
    "def sample_from_hypercube(n, p=2, domain=(-1, 1)):\n",
    "    \"\"\"Sample n uniformly distributed random variables within a p dimensional\n",
    "    hypercube bounded by the domain given\"\"\"\n",
    "    samples = np.random.uniform(domain[0], domain[1], [n, p])\n",
    "    return samples\n",
    "\n",
    "\n",
    "def compute_angle(v1, v2):\n",
    "    \"\"\"Compute the angle between two vectors\"\"\"\n",
    "    if np.array_equal(v1, v2):\n",
    "        return 0\n",
    "    angle = acos(np.dot(v1, v2) / (np.linalg.norm(v1) * np.linalg.norm(v2)))\n",
    "    return angle\n",
    "\n",
    "\n",
    "def compute_average_min_angle(samples):\n",
    "    \"\"\"Computes the average of min angles \"\"\"\n",
    "    #Get the minimum angles pairwise for each sample to every other one\n",
    "    #min_angles = [min([compute_angle(sample, other_sample) for other_sample in samples-sample]) for\n",
    "    #              sample in samples]\n",
    "    min_angles = np.ones(samples.shape[0]) * -1\n",
    "    for i_sample, sample in enumerate(samples):\n",
    "        for i_other_sample, other_sample in enumerate(samples[i_sample+1:, :]):\n",
    "            angle = compute_angle(sample, other_sample)\n",
    "            if min_angles[i_sample] == -1 or angle < min_angles[i_sample]:\n",
    "                min_angles[i_sample] = angle\n",
    "            if min_angles[i_sample + i_other_sample] == -1 or angle < min_angles[i_sample + i_other_sample]:\n",
    "                min_angles[i_sample + i_other_sample] = angle\n",
    "    avg_min_angles = np.average(min_angles)\n",
    "    return avg_min_angles"
   ]
  },
  {
   "cell_type": "code",
   "execution_count": 38,
   "metadata": {},
   "outputs": [
    {
     "name": "stdout",
     "output_type": "stream",
     "text": [
      "0.0200210482211\n"
     ]
    },
    {
     "data": {
      "text/plain": [
       "Text(0.5,0,'Dimension')"
      ]
     },
     "execution_count": 38,
     "metadata": {},
     "output_type": "execute_result"
    },
    {
     "data": {
      "image/png": "[encoded data removed]",
      "text/plain": [
       "<matplotlib.figure.Figure at 0x10d477ac8>"
      ]
     },
     "metadata": {},
     "output_type": "display_data"
    }
   ],
   "source": [
    "n = 100\n",
    "\n",
    "p = 2\n",
    "uniform_samples = sample_from_hypercube(n, p)\n",
    "average_min_angle = compute_average_min_angle(uniform_samples)\n",
    "print(average_min_angle)\n",
    "\n",
    "dimension_values = range(1, 1001)\n",
    "average_min_angles_for_dimension = [compute_average_min_angle(sample_from_hypercube(n, p)) for p in dimension_values]\n",
    "plt.plot(dimension_values,average_min_angles_for_dimension)\n",
    "plt.ylabel('Angle [rad]')\n",
    "plt.xlabel('Dimension')"
   ]
  },
  {
   "cell_type": "markdown",
   "metadata": {},
   "source": [
    "* As the dimension increases, the angles between any two vectors approach 90°. That means all vectors are approximately perpendicular to each other.\n",
    "\n",
    "* When increasing the sample size, for large dimensions there will be no differences. For fewer dimensions the minimum angle between two vectors increases less quickly."
   ]
  },
  {
   "cell_type": "markdown",
   "metadata": {
    "collapsed": true
   },
   "source": [
    "## Task 3:"
   ]
  },
  {
   "cell_type": "code",
   "execution_count": 43,
   "metadata": {},
   "outputs": [],
   "source": [
    "def compute_radius_of_hypersphere(p):\n",
    "    \"\"\"\n",
    "         \n",
    "    \"\"\"\n",
    "    radius = sqrt(.5**2 * p) - 0.5\n",
    "    \n",
    "    return radius"
   ]
  },
  {
   "cell_type": "code",
   "execution_count": 44,
   "metadata": {
    "collapsed": false
   },
   "outputs": [
    {
     "name": "stdout",
     "output_type": "stream",
     "text": [
      "0.20710678118654757\n"
     ]
    },
    {
     "data": {
      "image/png": "[encoded data removed]",
      "text/plain": [
       "<matplotlib.figure.Figure at 0x1185c5080>"
      ]
     },
     "metadata": {},
     "output_type": "display_data"
    }
   ],
   "source": [
    "fig = plt.figure()\n",
    "ax = fig.add_subplot(111, aspect='equal')\n",
    "\n",
    "radius = 0.5\n",
    "mid_radius = compute_radius_of_hypersphere(2)\n",
    "centers = zip((-0.5, 0.5, -0.5, 0.5), (-0.5, -0.5, 0.5, 0.5))\n",
    "circles = [plt.Circle(center, radius=radius, color='r') for center in centers]\n",
    "for circle in circles:\n",
    "    ax.add_artist(circle)\n",
    "\n",
    "unit_rectangle = plt.Rectangle(\n",
    "    (-0.5, -0.5),  # (x,y)\n",
    "    1,  # width\n",
    "    1,  # height\n",
    "    fill=False,\n",
    "    zorder=1,\n",
    "    color='k',\n",
    "    linewidth=2\n",
    ")\n",
    "ax.add_artist(unit_rectangle)\n",
    "\n",
    "middle_circle=plt.Circle((0,0), color='b', radius=mid_radius)\n",
    "ax.add_artist(middle_circle)\n",
    "\n",
    "ax.set_xlim(-1.5, 1.5)\n",
    "ax.set_ylim(-1.5, 1.5)\n",
    "\n",
    "print(mid_radius)"
   ]
  },
  {
   "cell_type": "markdown",
   "metadata": {},
   "source": [
    "The radius of the circle in the origin is $0.2071$\n",
    "\n",
    "We take the distance between the origin and one corner of the $p$ dimensional hypercube $\\sqrt{0.5^2  p}$ and subtract the radius of a the hypercube (always $0.5$). The remaining value is the radius of the hypersphere in the origin."
   ]
  },
  {
   "cell_type": "code",
   "execution_count": 52,
   "metadata": {
    "collapsed": false
   },
   "outputs": [
    {
     "data": {
      "text/plain": [
       "Text(0,0.5,'Radius')"
      ]
     },
     "execution_count": 52,
     "metadata": {},
     "output_type": "execute_result"
    },
    {
     "data": {
      "image/png": "[encoded data removed]",
      "text/plain": [
       "<matplotlib.figure.Figure at 0x11850c208>"
      ]
     },
     "metadata": {},
     "output_type": "display_data"
    }
   ],
   "source": [
    "dimension_values = range(1, 100)\n",
    "evaluated_radii = [compute_radius_of_hypersphere(p) for p in dimension_values]\n",
    "plt.plot(dimension_values, evaluated_radii)\n",
    "plt.xlabel('Dimension')\n",
    "plt.ylabel('Radius')"
   ]
  },
  {
   "cell_type": "markdown",
   "metadata": {},
   "source": [
    "For 4 dimensions, the radius of the hypersphere in the origin is $\\frac{1}{2}$ and is therefore the same size as the outer hyperspheres.\n",
    "\n",
    "For 9 dimensions, the radius exceeds $1$, which is very counter intuitive when thinking of two dimensions.\n",
    "\n",
    "As we continue increasing the dimensions, the radius tends towards infinity as well."
   ]
  },
  {
   "cell_type": "markdown",
   "metadata": {},
   "source": [
    "## Task 4:"
   ]
  },
  {
   "cell_type": "code",
   "execution_count": 55,
   "metadata": {
    "collapsed": true
   },
   "outputs": [],
   "source": [
    "xy_values = np.array([[(i, j) for j in range(1, 4)] for i in range(2, 0,-1)])\n",
    "prob_table = np.array([[0.4, 0.14, 0.05], [0.02, 0.26, 0.13]])"
   ]
  },
  {
   "cell_type": "code",
   "execution_count": 60,
   "metadata": {},
   "outputs": [
    {
     "name": "stdout",
     "output_type": "stream",
     "text": [
      "[[ 0.4   0.14  0.05]\n [ 0.02  0.26  0.13]]\n1.0\n1.40677966102\n0.722222222222\n"
     ]
    }
   ],
   "source": [
    "print(prob_table)\n",
    "#print(xy_values)\n",
    "print(prob_table.sum().sum())\n",
    "\n",
    "Ey_xeq2 = np.dot(prob_table[0, :], [1,2,3]) / prob_table[0,:].sum()\n",
    "print(Ey_xeq2)\n",
    "\n",
    "Pxeq1yeq3 = prob_table[1,2]\n",
    "Pyeq3 = prob_table[:,2].sum()\n",
    "Pxeq1_yeq3 = Pxeq1yeq3/Pyeq3\n",
    "print(Pxeq1_yeq3)"
   ]
  },
  {
   "cell_type": "markdown",
   "metadata": {
    "collapsed": true
   },
   "source": [
    ""
   ]
  },
  {
   "cell_type": "markdown",
   "metadata": {
    "collapsed": true
   },
   "source": [
    "\n"
   ]
  },
  {
   "cell_type": "markdown",
   "metadata": {},
   "source": [
    "* The sum of all table entries equals $1$ and each individual entry is between $0$ and $1$, therefore it is a probability table.\n",
    "\n",
    "* The conditional expectation $\\mathop{E}_{Y | X=2} [Y] = 1.406$ and $Pr(X=1 | Y =3) = 0.722$\n",
    "\n",
    "* No, because $\\iint_{-\\infty}^{\\infty} p(x, y)  \\mathrm{d}x  \\mathrm{d}y \\neq 1$\n",
    "\n",
    "* $p(x) = \\int_x^{\\infty} 2 e^{-(x+y)} \\mathrm{d}y = 2 e ^{-2x}$\n",
    "\n",
    "* $p(y) = \\int_0^{y} 2 e^{-(x+y)}  \\mathrm{d}x= 2 (e ^{-y} - e^{-2y})$\n",
    "\n",
    "* $Pr(X \\leq 2 | Y = \\frac{1}{2}) = \\int_0^2 \\frac{1}{15} (2x + 2) \\mathrm{d}x = \\frac{8}{15}$"
   ]
  },
  {
   "cell_type": "code",
   "execution_count": null,
   "metadata": {},
   "outputs": [],
   "source": []
  }
 ],
 "metadata": {
  "kernelspec": {
   "display_name": "Python 2",
   "language": "python",
   "name": "python2"
  },
  "language_info": {
   "codemirror_mode": {
    "name": "ipython",
    "version": 3
   },
   "file_extension": ".py",
   "mimetype": "text/x-python",
   "name": "python",
   "nbconvert_exporter": "python",
   "pygments_lexer": "ipython3",
   "version": "3.6.2"
  }
 },
 "nbformat": 4,
 "nbformat_minor": 1
}
