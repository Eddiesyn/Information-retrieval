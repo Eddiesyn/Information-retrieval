{
 "cells": [
  {
   "cell_type": "markdown",
   "metadata": {},
   "source": [
    "# SVM\n",
    "\n",
    "In this task, we will once again work with the MNIST training set. Prepare a training set matrix `X_train` consisting of the first 500 vectorized training samples of digits 1 and 2 each, and a corresponding label vector `y_train`. Use 1 and -1 for the labels."
   ]
  },
  {
   "cell_type": "code",
   "execution_count": 1,
   "metadata": {
    "collapsed": true
   },
   "outputs": [],
   "source": [
    "import numpy as np\n",
    "import matplotlib.pyplot as plt\n",
    "from imageio import imread\n",
    "\n",
    "N=500\n",
    "digit_prefix=['d1','d2']\n",
    "X_train=np.zeros((784,2*N))\n",
    "for i,dp in enumerate(digit_prefix):\n",
    "    for j in range(N):\n",
    "        X_train[:,i*N+j]=np.float64(imread('mnist/'+dp+'/'+dp+'_'+'%04d.png'%(j+1)).ravel())\n",
    "        \n",
    "y_train=np.floor(np.arange(2*N)/N)*2-1"
   ]
  },
  {
   "cell_type": "markdown",
   "metadata": {},
   "source": [
    "a) Write the function `simplesvm` which expects a training data matrix `X_train`, a training label vector `y_train` and a test data matrix `X_train` as its input. As a result, it returns the estimated test label vector `y_test`. To this end, employ `solvedualsvm` from the last lab course. Note that (8.29) in the lecture notes is overdetermined. You can exploit this to get a more robust estimation of $b$. Test your implementation with another 800 images from the MNIST data set."
   ]
  },
  {
   "cell_type": "code",
   "execution_count": 2,
   "metadata": {},
   "outputs": [
    {
     "ename": "ModuleNotFoundError",
     "evalue": "No module named 'cvxopt'",
     "output_type": "error",
     "traceback": [
      "\u001b[0;31m---------------------------------------------------------------------------\u001b[0m",
      "\u001b[0;31mModuleNotFoundError\u001b[0m                       Traceback (most recent call last)",
      "\u001b[0;32m<ipython-input-2-8571b65830b7>\u001b[0m in \u001b[0;36m<module>\u001b[0;34m()\u001b[0m\n\u001b[0;32m----> 1\u001b[0;31m \u001b[0;32mfrom\u001b[0m \u001b[0mcvxopt\u001b[0m \u001b[0;32mimport\u001b[0m \u001b[0mmatrix\u001b[0m\u001b[0;34m,\u001b[0m \u001b[0msolvers\u001b[0m\u001b[0;34m\u001b[0m\u001b[0m\n\u001b[0m\u001b[1;32m      2\u001b[0m \u001b[0;34m\u001b[0m\u001b[0m\n\u001b[1;32m      3\u001b[0m \u001b[0;32mdef\u001b[0m \u001b[0msolvedualsvm\u001b[0m\u001b[0;34m(\u001b[0m\u001b[0mH\u001b[0m\u001b[0;34m,\u001b[0m\u001b[0my\u001b[0m\u001b[0;34m)\u001b[0m\u001b[0;34m:\u001b[0m\u001b[0;34m\u001b[0m\u001b[0m\n\u001b[1;32m      4\u001b[0m     \u001b[0my\u001b[0m\u001b[0;34m=\u001b[0m\u001b[0my\u001b[0m\u001b[0;34m.\u001b[0m\u001b[0msqueeze\u001b[0m\u001b[0;34m(\u001b[0m\u001b[0;34m)\u001b[0m\u001b[0;34m\u001b[0m\u001b[0m\n\u001b[1;32m      5\u001b[0m     \u001b[0mn\u001b[0m\u001b[0;34m=\u001b[0m\u001b[0mlen\u001b[0m\u001b[0;34m(\u001b[0m\u001b[0my\u001b[0m\u001b[0;34m)\u001b[0m\u001b[0;34m\u001b[0m\u001b[0m\n",
      "\u001b[0;31mModuleNotFoundError\u001b[0m: No module named 'cvxopt'"
     ]
    }
   ],
   "source": [
    "from cvxopt import matrix, solvers\n",
    "\n",
    "def solvedualsvm(H,y):\n",
    "    y=y.squeeze()\n",
    "    n=len(y)\n",
    "    G=-np.eye(n).astype('double')\n",
    "    A=y.reshape(1,n).astype('double')\n",
    "    h=np.zeros((n,)).astype('double')\n",
    "    b=np.zeros((1,)).astype('double')\n",
    "    P=H.astype('double')\n",
    "    q=-np.ones((n,)).astype('double')\n",
    "    lambda_star=solvers.qp(matrix(P),matrix(q),matrix(G),matrix(h),matrix(A),matrix(b))\n",
    "    return np.squeeze(lambda_star['x'])\n",
    "\n",
    "def simplesvm(X_train,y_train, X_test=None):\n",
    "    y_train=y_train.squeeze()\n",
    "    H=np.dot(X_train.T,X_train)*np.expand_dims(y_train,0)*np.expand_dims(y_train,1)\n",
    "    lambda_star=solvedualsvm(H,y_train)\n",
    "    w=np.dot(X_train,lambda_star*y_train)\n",
    "    lambda_sqrd=lambda_star**2\n",
    "    b=np.dot(lambda_sqrd,np.dot(X_train.T,w)-y_train)/np.sum(lambda_sqrd)\n",
    "    ret=np.sign(np.dot(X_test.T,w)-b)\n",
    "    if X_test is None:\n",
    "        ret=[w,b]\n",
    "    return ret\n",
    "\n",
    "N_test=400\n",
    "digit_prefix=['d1','d2']\n",
    "X_test=np.zeros((784,2*N_test))\n",
    "for i,dp in enumerate(digit_prefix):\n",
    "    for j in range(N_test):\n",
    "        X_test[:,i*N_test+j]=np.float64(imread('mnist/'+dp+'/'+dp+'_'+'%04d.png'%(j+N+1)).ravel())\n",
    "y_test=np.floor(np.arange(2*N_test)/N_test)*2-1\n",
    "        \n",
    "print('Success rate:', np.sum((simplesvm(X_train, y_train, X_test)*y_test+1))/(4*N_test))"
   ]
  },
  {
   "cell_type": "markdown",
   "metadata": {},
   "source": [
    "b) Implement `kernelsvm(X_train,y_train,sigma,X_test)` which works the same way as `simplesvm` - but in the feature space described by the Gaussian kernel. Test your implementation with different values for `sigma`."
   ]
  },
  {
   "cell_type": "code",
   "execution_count": null,
   "metadata": {},
   "outputs": [],
   "source": [
    "def kappa(X, Y, sigma):\n",
    "    D2=np.expand_dims(np.sum(X**2, axis=0),1)+np.expand_dims(np.sum(Y**2, axis=0),0)-2*np.dot(X.T,Y)\n",
    "    return np.exp(-D2/(2*sigma**2))\n",
    "\n",
    "def kernelsvm(X_train,y_train,sigma, X_test):\n",
    "    K=kappa(X_train,X_train,sigma)\n",
    "    Ktrts=kappa(X_train,X_test,sigma)\n",
    "    H=K*np.expand_dims(y_train,0)*np.expand_dims(y_train,1)\n",
    "    lambda_star=solvedualsvm(H,y_train)\n",
    "    lambday=lambda_star*y_train\n",
    "    lambda_sqrd=lambda_star**2\n",
    "    b=np.dot(lambda_sqrd,np.dot(K,lambday)-y_train)/np.sum(lambda_sqrd)\n",
    "    return np.sign(np.dot(lambday,Ktrts)-b)\n",
    "\n",
    "print('Success rate:', np.sum((kernelsvm(X_train, y_train, 2500, X_test)*y_test+1))/(4*N_test))"
   ]
  },
  {
   "cell_type": "code",
   "execution_count": null,
   "metadata": {
    "collapsed": true
   },
   "outputs": [],
   "source": []
  }
 ],
 "metadata": {
  "kernelspec": {
   "display_name": "Python 3",
   "language": "python",
   "name": "python3"
  },
  "language_info": {
   "codemirror_mode": {
    "name": "ipython",
    "version": 3
   },
   "file_extension": ".py",
   "mimetype": "text/x-python",
   "name": "python",
   "nbconvert_exporter": "python",
   "pygments_lexer": "ipython3",
   "version": "3.6.2"
  }
 },
 "nbformat": 4,
 "nbformat_minor": 2
}
